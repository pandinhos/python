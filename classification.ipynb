{
 "cells": [
  {
   "cell_type": "markdown",
   "metadata": {},
   "source": [
    "<div style=\"font-size:18pt; padding-top:20px; text-align:center\">ЗАДАНИЕ 3. <b>Классификация текстовых данных и </b> <span style=\"font-weight:bold; color:green\">scikit-learn</span></div><hr>\n",
    "<div style=\"text-align:right;\">Папулин С.Ю. <span style=\"font-style: italic;font-weight: bold;\">(papulin_hse@mail.ru)</span></div>"
   ]
  },
  {
   "cell_type": "markdown",
   "metadata": {},
   "source": [
    "<a name=\"0\"></a>\n",
    "<div><span style=\"font-size:14pt; font-weight:bold\">Содержание</span>\n",
    "    <ol>\n",
    "        <li><a href=\"#1\">Варианты</a></li>\n",
    "        <li><a href=\"#2\">Задание</a></li>\n",
    "    </ol>\n",
    "</div>"
   ]
  },
  {
   "cell_type": "markdown",
   "metadata": {},
   "source": [
    "<p>Подключение стилей оформления</p>"
   ]
  },
  {
   "cell_type": "code",
   "execution_count": 44,
   "metadata": {
    "collapsed": false
   },
   "outputs": [
    {
     "data": {
      "text/html": [
       "<link href=\"css/style.css\" rel=\"stylesheet\" type=\"text/css\">"
      ],
      "text/plain": [
       "<IPython.core.display.HTML object>"
      ]
     },
     "metadata": {},
     "output_type": "display_data"
    }
   ],
   "source": [
    "%%html\n",
    "<link href=\"css/style.css\" rel=\"stylesheet\" type=\"text/css\">"
   ]
  },
  {
   "cell_type": "markdown",
   "metadata": {},
   "source": [
    "<a name=\"1\"></a>\n",
    "<div style=\"display:table; width:100%; padding-top:10px; padding-bottom:10px; border-bottom:1px solid lightgrey\">\n",
    "    <div style=\"display:table-row\">\n",
    "        <div style=\"display:table-cell; width:80%; font-size:14pt; font-weight:bold\">1. Варианты</div>\n",
    "    \t<div style=\"display:table-cell; width:20%; text-align:center; background-color:whitesmoke; border:1px solid lightgrey\"><a href=\"#0\">К содержанию</a></div>\n",
    "    </div>\n",
    "</div>"
   ]
  },
  {
   "cell_type": "markdown",
   "metadata": {},
   "source": [
    "<p>Чтобы узнать свой вариант, введите Вашу фамилию в соответвующее поле ниже и запустите ячейку:</p>"
   ]
  },
  {
   "cell_type": "code",
   "execution_count": 45,
   "metadata": {
    "collapsed": false
   },
   "outputs": [
    {
     "name": "stdout",
     "output_type": "stream",
     "text": [
      "Ваш вариант -  1\n"
     ]
    }
   ],
   "source": [
    "surname = \"Долгушин\" #Ваша фамилия\n",
    "\n",
    "alp = 'абвгдеёжзийклмнопрстуфхцчшщъыьэюя'\n",
    "w = [4, 42, 21, 21, 34,  1, 44, 26, 18, 43, 38, 26, 18, 43,  3, 49, 45,\n",
    "        7, 42, 25,  4,  9, 36, 33, 31, 29,  5, 31,  4, 19, 24, 27, 33]\n",
    "d = dict(zip(alp, w))\n",
    "variant =  sum([d[el] for el in surname.lower()]) % 3 + 1\n",
    "print(\"Ваш вариант - \", variant)"
   ]
  },
  {
   "cell_type": "markdown",
   "metadata": {},
   "source": [
    "<div class=\"msg-block msg-warning\">\n",
    "  <p class=\"msg-text-warn\">Варианты могут не совпадать с последующими ДЗ</p>\n",
    "</div>"
   ]
  },
  {
   "cell_type": "markdown",
   "metadata": {},
   "source": [
    "<a name=\"2\"></a>\n",
    "<div style=\"display:table; width:100%; padding-top:10px; padding-bottom:10px; border-bottom:1px solid lightgrey\">\n",
    "    <div style=\"display:table-row\">\n",
    "        <div style=\"display:table-cell; width:80%; font-size:14pt; font-weight:bold\">2. Задание</div>\n",
    "    \t<div style=\"display:table-cell; width:20%; text-align:center; background-color:whitesmoke; border:1px solid lightgrey\"><a href=\"#0\">К содержанию</a></div>\n",
    "    </div>\n",
    "</div>"
   ]
  },
  {
   "cell_type": "markdown",
   "metadata": {},
   "source": [
    "<div class=\"msg-block msg-imp\">\n",
    "  <div class=\"msg-text-imp\">\n",
    "      <p>СРОК СДАЧИ: до <b>11 мая 2017</b></p>\n",
    "      <p style=\"margin:0px\">ПОСЛЕ СРОКА: первая неделя <b>-25%</b>, вторая неделя и далее до конца модуля <b>-50%</b>\n",
    "      </p>\n",
    "  </div>\n",
    "</div>"
   ]
  },
  {
   "cell_type": "markdown",
   "metadata": {},
   "source": [
    "<p><b>Варианты</b></p>"
   ]
  },
  {
   "cell_type": "markdown",
   "metadata": {},
   "source": [
    "<ol>\n",
    "    <li>\n",
    "        Набор электронных сообщений (emails) - <b>спам/не спам</b> - <a href=\"http://csmining.org/index.php/spam-email-datasets-.html\">источник</a> - файл c данными: <b>data/emails.tsv</b>\n",
    "    </li>\n",
    "    <li>\n",
    "        Набор SMS сообщений (sms) - <b>спам/не спам</b> - <a href=\"https://archive.ics.uci.edu/ml/datasets/SMS+Spam+Collection\">источник</a> - файл c данными: <b>data/SMSSpamCollection</b>\n",
    "    </li>\n",
    "    <li>Набор рецензий на фильмы (reviews) - <b>positive/negative</b> - <a href=\"http://www.cs.cornell.edu/people/pabo/movie-review-data/\">источник</a> - файл c данными: <b>data/reviews.tsv</b></li>\n",
    "</ol>"
   ]
  },
  {
   "cell_type": "markdown",
   "metadata": {},
   "source": [
    "<p><b>Задача 1.</b> Классификация текстовых сообщений <b><i>(2 балла)</i></b></p>"
   ]
  },
  {
   "cell_type": "markdown",
   "metadata": {},
   "source": [
    "<ol>\n",
    "    <li>Загрузите исходные данные</li>\n",
    "    <li>Разбейте загруженные данные на обучающее (train) и тестовое подможества (test)</li>\n",
    "    <li>Переведите текстовые данные в векторный вид. Для этого воcпользуйтесь средствами sklearn для конвертации текста в векторы TF-IDF (настроить на обучающем подмножестве, n-gram=1, слова в нижний регистр)</li>\n",
    "    <li>Постройте на обучающем подмножестве следующие модели классификации:\n",
    "        <ul>\n",
    "            <li>K-ближайших соседей ($n=5$)</li>\n",
    "            <li>Логистическая регрессия ($C=1$)</li>\n",
    "            <li>Мультиномиальный наивный Байес ($\\alpha=1$)</li> \n",
    "        </ul>\n",
    "    </li>\n",
    "    <li>Определите качество классификации (по доле правильных классификаций) на тестовом подмножестве</li>\n",
    "    <li>Определите с помощью timeit время обучения и предсказания (на тестовом подмножестве) </li>\n",
    "</ol>"
   ]
  },
  {
   "cell_type": "code",
   "execution_count": 46,
   "metadata": {
    "collapsed": true
   },
   "outputs": [],
   "source": [
    "# random_state = 123 # для всех объектов/методов/моделей"
   ]
  },
  {
   "cell_type": "code",
   "execution_count": 47,
   "metadata": {
    "collapsed": false
   },
   "outputs": [],
   "source": [
    "# Параметры логистической регрессии\n",
    "# penalty=\"l2\", fit_intercept=True, max_iter=100, C=1, solver=\"lbfgs\", random_state=12345"
   ]
  },
  {
   "cell_type": "code",
   "execution_count": 48,
   "metadata": {
    "collapsed": true
   },
   "outputs": [],
   "source": [
    "# NB! NB! NB! NB! NB! NB! NB! NB! NB! NB! NB! NB! NB! NB! NB! "
   ]
  },
  {
   "cell_type": "code",
   "execution_count": 49,
   "metadata": {
    "collapsed": true
   },
   "outputs": [],
   "source": [
    "# Спасибо за внимание!"
   ]
  },
  {
   "cell_type": "code",
   "execution_count": 50,
   "metadata": {
    "collapsed": true
   },
   "outputs": [],
   "source": [
    "# ПРОСЬБА ЗАПУСКАТЬ ВСЕ ПО ПОРЯДКУ, ЧТОБЫ НЕ ВОЗНИКЛО НЕПРЕДВИДЕННЫХ ОШИБОК."
   ]
  },
  {
   "cell_type": "code",
   "execution_count": 51,
   "metadata": {
    "collapsed": true
   },
   "outputs": [],
   "source": [
    "# Так же во избежание пожара в моей комнате из-за возгорания ноутбука я не считал время обучения и предикта для некоторых случаев"
   ]
  },
  {
   "cell_type": "code",
   "execution_count": 52,
   "metadata": {
    "collapsed": true
   },
   "outputs": [],
   "source": [
    "# NB! NB! NB! NB! NB! NB! NB! NB! NB! NB! NB! NB! NB! NB! NB! "
   ]
  },
  {
   "cell_type": "code",
   "execution_count": 53,
   "metadata": {
    "collapsed": false
   },
   "outputs": [],
   "source": [
    "import numpy as np\n",
    "import pandas as pd\n",
    "import matplotlib.pyplot as plt\n",
    "from sklearn.feature_extraction.text import CountVectorizer\n",
    "from sklearn.cross_validation import train_test_split\n",
    "from sklearn.naive_bayes import MultinomialNB\n",
    "from sklearn.feature_extraction.text import TfidfVectorizer\n",
    "from sklearn.feature_extraction.text import TfidfTransformer\n",
    "from sklearn.metrics import accuracy_score\n",
    "from sklearn import cross_validation\n",
    "from sklearn.neighbors import KNeighborsClassifier\n",
    "from sklearn.cross_validation import KFold\n",
    "from sklearn.linear_model import LinearRegression, LogisticRegression\n",
    "%matplotlib inline"
   ]
  },
  {
   "cell_type": "code",
   "execution_count": 54,
   "metadata": {
    "collapsed": false
   },
   "outputs": [],
   "source": [
    "import re\n",
    "#1) 2) \n",
    "df = pd.read_table(\"data/emails.tsv\", header=None)\n",
    "df = df.dropna()\n",
    "y = df[0].values.astype(\"U\")\n",
    "x = df[1].values.astype(\"U\")\n",
    "x_train, x_test, y_train, y_test = train_test_split(x, y, test_size=0.3, random_state=123)"
   ]
  },
  {
   "cell_type": "code",
   "execution_count": 55,
   "metadata": {
    "collapsed": false
   },
   "outputs": [],
   "source": [
    "#3)\n",
    "vectorizer = TfidfVectorizer(lowercase=True, stop_words='english', \n",
    "                             use_idf=True, ngram_range=(1, 1),\n",
    "                             smooth_idf=False)                        "
   ]
  },
  {
   "cell_type": "code",
   "execution_count": 56,
   "metadata": {
    "collapsed": false
   },
   "outputs": [],
   "source": [
    "#3)\n",
    "x_train_vectors = vectorizer.fit_transform(x_train)\n",
    "x_test_vectors = vectorizer.transform(x_test)"
   ]
  },
  {
   "cell_type": "code",
   "execution_count": 57,
   "metadata": {
    "collapsed": false
   },
   "outputs": [],
   "source": [
    "#4) 5)\n",
    "m_multNB = MultinomialNB(alpha=1).fit(x_train_vectors, y_train)\n",
    "m_predict = m_multNB.predict(x_test_vectors)"
   ]
  },
  {
   "cell_type": "code",
   "execution_count": 58,
   "metadata": {
    "collapsed": false
   },
   "outputs": [
    {
     "name": "stdout",
     "output_type": "stream",
     "text": [
      "Доля правильных классификаций для mnb 0.869799691834\n"
     ]
    }
   ],
   "source": [
    "m_score = accuracy_score(m_predict, y_test)\n",
    "print(\"Доля правильных классификаций для mnb\", m_score)"
   ]
  },
  {
   "cell_type": "code",
   "execution_count": 59,
   "metadata": {
    "collapsed": false
   },
   "outputs": [],
   "source": [
    "logReg = LogisticRegression(penalty=\"l2\", fit_intercept=True, max_iter=100, C=1, solver=\"lbfgs\", random_state=12345).fit(x_train_vectors, y_train)\n",
    "l_predict = logReg.predict(x_test_vectors)"
   ]
  },
  {
   "cell_type": "code",
   "execution_count": 60,
   "metadata": {
    "collapsed": false
   },
   "outputs": [
    {
     "name": "stdout",
     "output_type": "stream",
     "text": [
      "Доля правильных классификаций для logistic regression 0.961479198767\n"
     ]
    }
   ],
   "source": [
    "l_score = accuracy_score(l_predict, y_test)\n",
    "print(\"Доля правильных классификаций для logistic regression\", l_score)"
   ]
  },
  {
   "cell_type": "code",
   "execution_count": 61,
   "metadata": {
    "collapsed": false
   },
   "outputs": [],
   "source": [
    "knn_classify = KNeighborsClassifier(n_neighbors=5).fit(x_train_vectors, y_train)\n",
    "k_predict = knn_classify.predict(x_test_vectors)"
   ]
  },
  {
   "cell_type": "code",
   "execution_count": 62,
   "metadata": {
    "collapsed": false
   },
   "outputs": [
    {
     "name": "stdout",
     "output_type": "stream",
     "text": [
      "Доля правильных классификаций для knn 0.503081664099\n"
     ]
    }
   ],
   "source": [
    "k_score = accuracy_score(k_predict, y_test)\n",
    "print(\"Доля правильных классификаций для knn\", k_score)"
   ]
  },
  {
   "cell_type": "code",
   "execution_count": 63,
   "metadata": {
    "collapsed": false
   },
   "outputs": [],
   "source": [
    "#6)\n",
    "import timeit\n",
    "s = \"\"\"\n",
    "import pandas as pd\n",
    "from sklearn.metrics import accuracy_score\n",
    "from sklearn import cross_validation\n",
    "from sklearn.feature_extraction.text import TfidfVectorizer\n",
    "from sklearn.linear_model import LogisticRegression\n",
    "from sklearn.neighbors import KNeighborsClassifier\n",
    "from sklearn.naive_bayes import MultinomialNB\n",
    "from sklearn.cross_validation import train_test_split\n",
    "df = pd.read_table(\"data/emails.tsv\", header=None)\n",
    "df = df.dropna()\n",
    "y = df[0].values.astype(\"U\")\n",
    "x = df[1].values.astype(\"U\")\n",
    "x_train, x_test, y_train, y_test = train_test_split(x, y, test_size=0.2, random_state=123)\n",
    "vectorizer = TfidfVectorizer(lowercase=True, stop_words='english', \n",
    "                             use_idf=True, ngram_range=(1, 1),\n",
    "                             smooth_idf=False) \n",
    "x_train_vectors = vectorizer.fit_transform(x_train)\n",
    "x_test_vectors = vectorizer.transform(x_test)\n",
    "m_multNB = MultinomialNB(alpha=1)\n",
    "logReg = LogisticRegression(penalty=\"l2\", fit_intercept=True, max_iter=100, C=1, solver=\"lbfgs\", random_state=12345)\n",
    "knn_classify = KNeighborsClassifier(n_neighbors=5)\n",
    "\"\"\""
   ]
  },
  {
   "cell_type": "code",
   "execution_count": 64,
   "metadata": {
    "collapsed": false
   },
   "outputs": [
    {
     "name": "stdout",
     "output_type": "stream",
     "text": [
      "Время для mnb: 0.012355750300048384\n"
     ]
    }
   ],
   "source": [
    "print(\"Время для mnb:\", (timeit.timeit(\"m_multNB.fit(x_train_vectors, y_train);m_predict = m_multNB.predict(x_test_vectors)\", setup=s, number=50))/50)"
   ]
  },
  {
   "cell_type": "code",
   "execution_count": 65,
   "metadata": {
    "collapsed": false
   },
   "outputs": [
    {
     "name": "stdout",
     "output_type": "stream",
     "text": [
      "Время для logistic regression: 0.2400132735400257\n"
     ]
    }
   ],
   "source": [
    "print(\"Время для logistic regression:\", (timeit.timeit(\"logReg.fit(x_train_vectors, y_train);l_predict = logReg.predict(x_test_vectors)\", setup=s, number=50))/50)"
   ]
  },
  {
   "cell_type": "code",
   "execution_count": 66,
   "metadata": {
    "collapsed": false
   },
   "outputs": [
    {
     "name": "stdout",
     "output_type": "stream",
     "text": [
      "Время для knn: 0.20082712944000378\n"
     ]
    }
   ],
   "source": [
    "print(\"Время для knn:\", (timeit.timeit(\"knn_classify.fit(x_train_vectors, y_train);k_predict = knn_classify.predict(x_test_vectors)\", setup=s, number=50))/50)"
   ]
  },
  {
   "cell_type": "markdown",
   "metadata": {},
   "source": [
    "<p><b>Задача 2.</b> Применение k-folds <b><i>(3 балла)</i></b></p>"
   ]
  },
  {
   "cell_type": "markdown",
   "metadata": {},
   "source": [
    "<p>Повторите решение задачи 1, но с ипользованием k-folds (k=4) для разделения исходных данных, обучения и тестирования.</p>"
   ]
  },
  {
   "cell_type": "code",
   "execution_count": 67,
   "metadata": {
    "collapsed": true
   },
   "outputs": [],
   "source": [
    "random_state = 123 # для всех объектов/методов/моделей"
   ]
  },
  {
   "cell_type": "code",
   "execution_count": 68,
   "metadata": {
    "collapsed": false
   },
   "outputs": [],
   "source": [
    "df = pd.read_table(\"data/emails.tsv\", header=None)\n",
    "y = df[0].values.astype(\"U\")\n",
    "x = df[1].values.astype(\"U\")\n",
    "kf = cross_validation.KFold(n=len(x), n_folds=4, shuffle=True, random_state=123)"
   ]
  },
  {
   "cell_type": "code",
   "execution_count": 69,
   "metadata": {
    "collapsed": false
   },
   "outputs": [],
   "source": [
    "x_trainr, x_valr, y_trainr, y_valr = [], [], [], []\n",
    "\n",
    "for t_index, tt_index in kf:\n",
    "    xtrain, xval = x[t_index], x[tt_index]\n",
    "    x_trainr.append(xtrain)\n",
    "    x_valr.append(xval)\n",
    "    \n",
    "    ytrain, yval = y[t_index], y[tt_index]\n",
    "    y_trainr.append(ytrain)\n",
    "    y_valr.append(yval)"
   ]
  },
  {
   "cell_type": "code",
   "execution_count": 70,
   "metadata": {
    "collapsed": false
   },
   "outputs": [],
   "source": [
    "acc_m, acc_l, acc_k = [], [], []\n",
    "\n",
    "for i in range(4):\n",
    "    vectorize = TfidfVectorizer(lowercase=True, stop_words='english', \n",
    "                             use_idf=True, ngram_range=(1, 1),\n",
    "                             smooth_idf=False)  \n",
    "    x_traini = x_trainr[i]\n",
    "    x_vali = x_valr[i]\n",
    "    y_vali = y_valr[i]\n",
    "    trainvectors = vectorize.fit_transform(x_traini)\n",
    "    valvectors = vectorize.transform(x_vali)\n",
    "    \n",
    "    m_multNB = MultinomialNB(alpha=1).fit(trainvectors, y_trainr[i])\n",
    "    logReg = LogisticRegression(penalty=\"l2\", fit_intercept=True, max_iter=100, C=1, solver=\"lbfgs\", random_state=12345).fit(trainvectors, y_trainr[i])\n",
    "    knn_classify = KNeighborsClassifier(n_neighbors=5).fit(trainvectors, y_trainr[i])\n",
    "    \n",
    "    m_prediction = m_multNB.predict(valvectors)\n",
    "    l_prediction = logReg.predict(valvectors)\n",
    "    k_prediction = knn_classify.predict(valvectors)\n",
    "    \n",
    "    acc_m.append(accuracy_score(m_prediction, y_vali))\n",
    "    acc_l.append(accuracy_score(l_prediction, y_vali))\n",
    "    acc_k.append(accuracy_score(k_prediction, y_vali))"
   ]
  },
  {
   "cell_type": "code",
   "execution_count": 71,
   "metadata": {
    "collapsed": false
   },
   "outputs": [
    {
     "name": "stdout",
     "output_type": "stream",
     "text": [
      "Доля правильных классификаций для mnb 0.888819613181\n",
      "Доля правильных классификаций для logistic regression 0.96162992608\n",
      "Доля правильных классификаций для knn 0.453755294355\n"
     ]
    }
   ],
   "source": [
    "print(\"Доля правильных классификаций для mnb\", np.array(acc_m).mean())\n",
    "print(\"Доля правильных классификаций для logistic regression\", np.array(acc_l).mean())\n",
    "print(\"Доля правильных классификаций для knn\", np.array(acc_k).mean())"
   ]
  },
  {
   "cell_type": "code",
   "execution_count": 72,
   "metadata": {
    "collapsed": false
   },
   "outputs": [],
   "source": [
    "s2 = \"\"\"\n",
    "import pandas as pd\n",
    "from sklearn.metrics import accuracy_score\n",
    "from sklearn import cross_validation\n",
    "from sklearn.feature_extraction.text import TfidfVectorizer\n",
    "from sklearn.linear_model import LogisticRegression\n",
    "from sklearn.neighbors import KNeighborsClassifier\n",
    "from sklearn.naive_bayes import MultinomialNB\n",
    "from sklearn.cross_validation import train_test_split\n",
    "df = pd.read_table(\"data/emails.tsv\", header=None)\n",
    "y = df[0].values.astype(\"U\")\n",
    "x = df[1].values.astype(\"U\")\n",
    "kf = cross_validation.KFold(n=len(x), n_folds=4, shuffle=True, random_state=123)\n",
    "x_trainr, x_valr, y_trainr, y_valr = [], [], [], []\n",
    "\n",
    "for t_index, tt_index in kf:\n",
    "    xtrain, xval = x[t_index], x[tt_index]\n",
    "    x_trainr.append(xtrain)\n",
    "    x_valr.append(xval)\n",
    "    \n",
    "    ytrain, yval = y[t_index], y[tt_index]\n",
    "    y_trainr.append(ytrain)\n",
    "    y_valr.append(yval)\n",
    "    \n",
    "acc_m, acc_l, acc_k = [], [], []\n",
    "\"\"\""
   ]
  },
  {
   "cell_type": "code",
   "execution_count": 73,
   "metadata": {
    "collapsed": false
   },
   "outputs": [
    {
     "name": "stdout",
     "output_type": "stream",
     "text": [
      "Время для mnb: 23.717977383999823\n"
     ]
    }
   ],
   "source": [
    "print(\"Время для mnb:\", (timeit.timeit(\"\"\"\n",
    "for i in range(4):\n",
    "    vectorize = TfidfVectorizer(lowercase=True, stop_words='english', \n",
    "                             use_idf=True, ngram_range=(1, 1),\n",
    "                             smooth_idf=False)  \n",
    "    x_traini = x_trainr[i]\n",
    "    x_vali = x_valr[i]\n",
    "    y_vali = y_valr[i]\n",
    "    trainvectors = vectorize.fit_transform(x_traini)\n",
    "    valvectors = vectorize.transform(x_vali)\n",
    "    m_multNB = MultinomialNB(alpha=1).fit(trainvectors, y_trainr[i])  \n",
    "    m_prediction = m_multNB.predict(valvectors)\n",
    "    \"\"\", setup=s2, number=1)))"
   ]
  },
  {
   "cell_type": "code",
   "execution_count": 74,
   "metadata": {
    "collapsed": false
   },
   "outputs": [
    {
     "name": "stdout",
     "output_type": "stream",
     "text": [
      "Время для logistic regression: 24.286852011999144\n"
     ]
    }
   ],
   "source": [
    "print(\"Время для logistic regression:\", (timeit.timeit(\"\"\"for i in range(4):\n",
    "    vectorize = TfidfVectorizer(lowercase=True, stop_words='english', \n",
    "                             use_idf=True, ngram_range=(1, 1),\n",
    "                             smooth_idf=False)  \n",
    "    x_traini = x_trainr[i]\n",
    "    x_vali = x_valr[i]\n",
    "    y_vali = y_valr[i]\n",
    "    trainvectors = vectorize.fit_transform(x_traini)\n",
    "    valvectors = vectorize.transform(x_vali)\n",
    "    logReg = LogisticRegression(penalty=\"l2\", fit_intercept=True, max_iter=100, C=1, solver=\"lbfgs\", random_state=12345).fit(trainvectors, y_trainr[i])  \n",
    "    l_prediction = logReg.predict(valvectors)\n",
    "    \"\"\", setup=s2, number=1)))"
   ]
  },
  {
   "cell_type": "code",
   "execution_count": 75,
   "metadata": {
    "collapsed": false
   },
   "outputs": [
    {
     "name": "stdout",
     "output_type": "stream",
     "text": [
      "Время для knn: 22.803564508001728\n"
     ]
    }
   ],
   "source": [
    "print(\"Время для knn:\", (timeit.timeit(\"\"\"for i in range(4):\n",
    "    vectorize = TfidfVectorizer(lowercase=True, stop_words='english', \n",
    "                             use_idf=True, ngram_range=(1, 1),\n",
    "                             smooth_idf=False)  \n",
    "    x_traini = x_trainr[i]\n",
    "    x_vali = x_valr[i]\n",
    "    y_vali = y_valr[i]\n",
    "    trainvectors = vectorize.fit_transform(x_traini)\n",
    "    valvectors = vectorize.transform(x_vali)\n",
    "    knn_classify = KNeighborsClassifier(n_neighbors=5).fit(trainvectors, y_trainr[i])\n",
    "    k_prediction = knn_classify.predict(valvectors)\n",
    "    \"\"\", setup=s2, number=1)))"
   ]
  },
  {
   "cell_type": "markdown",
   "metadata": {},
   "source": [
    "<p><b>Задача 3.</b> Выбор модели <b><i>(5 баллов)</i></b></p>"
   ]
  },
  {
   "cell_type": "markdown",
   "metadata": {},
   "source": [
    "<p style=\"padding-left:15px;\">1. Используя данные из задачи 1, разбейте обучающее подмножество (train) с использованием k-folds (k=4) <br>\n",
    "2. Обучите и протестируйте на разбитом обучающем подмножестве классификаторы со следующими параметрами: </p>"
   ]
  },
  {
   "cell_type": "code",
   "execution_count": 129,
   "metadata": {
    "collapsed": true
   },
   "outputs": [],
   "source": [
    "df = pd.read_table(\"data/emails.tsv\", header=None)\n",
    "y = df[0].values.astype(\"U\")\n",
    "x = df[1].values.astype(\"U\")\n",
    "x_train_init, x_test, y_train_init, y_test = cross_validation.train_test_split(x, y, test_size=0.3, random_state=123)\n",
    "kf3 = cross_validation.KFold(n=len(x_train_init), n_folds=4, shuffle=True, random_state=123)"
   ]
  },
  {
   "cell_type": "code",
   "execution_count": 130,
   "metadata": {
    "collapsed": false
   },
   "outputs": [],
   "source": [
    "x_trainl, x_vall, y_trainl, y_vall = [], [], [], []\n",
    "\n",
    "for t_index, tt_index in kf3:\n",
    "    xtrainl, xvall = x_train_init[t_index], x_train_init[tt_index]\n",
    "    x_trainl.append(xtrainl)\n",
    "    x_vall.append(xvall)\n",
    "    \n",
    "    ytrainl, yvall = y_train_init[t_index], y_train_init[tt_index]\n",
    "    y_trainl.append(ytrainl)\n",
    "    y_vall.append(yvall)"
   ]
  },
  {
   "cell_type": "markdown",
   "metadata": {},
   "source": [
    "<p>K-ближайших соседей</p>"
   ]
  },
  {
   "cell_type": "code",
   "execution_count": 131,
   "metadata": {
    "collapsed": true
   },
   "outputs": [],
   "source": [
    "ns = np.arange(1, 150, 20) # количество соседей\n",
    "k_acc_val, k_acc_train = [], []\n",
    "for i in range(len(ns)):\n",
    "    tk_acc_val, tk_acc_train = [], []\n",
    "    for j in range(4):\n",
    "        vectoriz = TfidfVectorizer(lowercase=True, stop_words='english', \n",
    "                             use_idf=True, ngram_range=(1, 1),\n",
    "                             smooth_idf=False)  \n",
    "        x_traini = x_trainl[j]\n",
    "        x_vali = x_vall[j]\n",
    "        y_vali = y_vall[j]\n",
    "        y_traini = y_trainl[j]\n",
    "\n",
    "        trainvectors = vectoriz.fit_transform(x_traini)\n",
    "        valvectors = vectoriz.transform(x_vali)\n",
    "        knn_classif = KNeighborsClassifier(n_neighbors=ns[i]).fit(trainvectors, y_traini)\n",
    "        \n",
    "        k_predictionv = knn_classif.predict(valvectors)\n",
    "        k_predictiont = knn_classif.predict(trainvectors)\n",
    "        \n",
    "        tk_acc_val.append(accuracy_score(k_predictionv, y_vali))\n",
    "        tk_acc_train.append(accuracy_score(k_predictiont, y_traini))\n",
    "        \n",
    "    k_acc_val.append(np.array(tk_acc_val).mean())\n",
    "    k_acc_train.append(np.array(tk_acc_train).mean())"
   ]
  },
  {
   "cell_type": "markdown",
   "metadata": {},
   "source": [
    "<p>Логистическая регрессия</p>"
   ]
  },
  {
   "cell_type": "code",
   "execution_count": 132,
   "metadata": {
    "collapsed": false
   },
   "outputs": [],
   "source": [
    "cs = np.logspace(-2, 10, 8, base=10)\n",
    "l_acc_val, l_acc_train = [], []\n",
    "for i in range(len(cs)):\n",
    "    tl_acc_val, tl_acc_train = [], []\n",
    "    for j in range(4):\n",
    "        vectoriz = TfidfVectorizer(lowercase=True, stop_words='english', \n",
    "                             use_idf=True, ngram_range=(1, 1),\n",
    "                             smooth_idf=False)  \n",
    "        x_traini = x_trainl[j]\n",
    "        x_vali = x_vall[j]\n",
    "        y_vali = y_vall[j]\n",
    "        y_traini = y_trainl[j]\n",
    "\n",
    "        trainvectors = vectoriz.fit_transform(x_traini)\n",
    "        valvectors = vectoriz.transform(x_vali)\n",
    "        logRega = LogisticRegression(penalty=\"l2\", fit_intercept=True, max_iter=100, C=cs[i], solver=\"lbfgs\", random_state=12345).fit(trainvectors, y_traini)\n",
    "        \n",
    "        l_predictionv = logRega.predict(valvectors)\n",
    "        l_predictiont = logRega.predict(trainvectors)\n",
    "        \n",
    "        tl_acc_val.append(accuracy_score(l_predictionv, y_vali))\n",
    "        tl_acc_train.append(accuracy_score(l_predictiont, y_traini))\n",
    "        \n",
    "    l_acc_val.append(np.array(tl_acc_val).mean())\n",
    "    l_acc_train.append(np.array(tl_acc_train).mean())"
   ]
  },
  {
   "cell_type": "markdown",
   "metadata": {},
   "source": [
    "<p>Мультиномиальный наивный Байес</p>"
   ]
  },
  {
   "cell_type": "code",
   "execution_count": 133,
   "metadata": {
    "collapsed": false
   },
   "outputs": [],
   "source": [
    "alphas = np.logspace(-4, 1, 8, base=10) # сглаживающий параметр\n",
    "m_acc_val, m_acc_train = [], []\n",
    "for i in range(len(alphas)):\n",
    "    t_acc_val, t_acc_train = [], []\n",
    "    for j in range(4):\n",
    "        vectoriz = TfidfVectorizer(lowercase=True, stop_words='english', \n",
    "                             use_idf=True, ngram_range=(1, 1),\n",
    "                             smooth_idf=False)  \n",
    "        x_traini = x_trainl[j]\n",
    "        x_vali = x_vall[j]\n",
    "        y_vali = y_vall[j]\n",
    "        y_traini = y_trainl[j]\n",
    "\n",
    "        trainvectors = vectoriz.fit_transform(x_traini)\n",
    "        valvectors = vectoriz.transform(x_vali)\n",
    "        m_multNBa = MultinomialNB(alpha=alphas[i]).fit(trainvectors, y_traini)\n",
    "        \n",
    "        m_predictionv = m_multNBa.predict(valvectors)\n",
    "        m_predictiont = m_multNBa.predict(trainvectors)\n",
    "        \n",
    "        t_acc_val.append(accuracy_score(m_predictionv, y_vali))\n",
    "        t_acc_train.append(accuracy_score(m_predictiont, y_traini))\n",
    "        \n",
    "    m_acc_val.append(np.array(t_acc_val).mean())\n",
    "    m_acc_train.append(np.array(t_acc_train).mean())"
   ]
  },
  {
   "cell_type": "markdown",
   "metadata": {},
   "source": [
    "<p style=\"padding-left:15px;\">3. Постройте графики (параметры модели)-(доля правильных классификаций) при обучении и валидации <br>\n",
    "4. Выберите лучшую модель для каждого метода, используя значение качества классификации (использовать долю правильных классификаций)<br>\n",
    "5. Выбранные модели обучите на обучающем подмножестве (train) и протестируйте на тестовом (test). Определите время обучения и предсказания (см. задачу 1 п. 6)<br>\n",
    "6. Повторите шаги 2-4 для n-gram=2<br>\n",
    "7. Выведите итоговые данные по всем методам для лучших моделей (метод, n-gram, значение параметра модели, время обучения, время предсказания, доля правильных классификаций)<br>\n",
    "8. Сделайте выводы по полученным результатам (преимущества и недостатки методов)\n",
    "</p>"
   ]
  },
  {
   "cell_type": "code",
   "execution_count": 134,
   "metadata": {
    "collapsed": false
   },
   "outputs": [
    {
     "data": {
      "image/png": "[encoded data removed]",
      "text/plain": [
       "<matplotlib.figure.Figure at 0x4dbc867b8>"
      ]
     },
     "metadata": {},
     "output_type": "display_data"
    }
   ],
   "source": [
    "plt.figure(1, figsize=[17, 4])\n",
    "xx = [i for i in range(1, 9)]\n",
    "plt.xticks([i for i in range(1, 9)])\n",
    "plt.title(\"kNN ngram=1\")\n",
    "plt.plot(xx, k_acc_val, 'o-', color='red', lw=2)\n",
    "plt.plot(xx, k_acc_train, 'o-', color='blue', lw=2)\n",
    "plt.legend([\"VALIDATION ACCURACY\", \"TRAIN ACCURACY\"], loc=1)\n",
    "plt.ylabel('Accuracy')\n",
    "plt.xlabel('Number of the Nearest Neighbors')\n",
    "plt.grid(True)\n",
    "plt.show()"
   ]
  },
  {
   "cell_type": "code",
   "execution_count": 135,
   "metadata": {
    "collapsed": false
   },
   "outputs": [
    {
     "data": {
      "image/png": "[encoded data removed]",
      "text/plain": [
       "<matplotlib.figure.Figure at 0x1126c26a0>"
      ]
     },
     "metadata": {},
     "output_type": "display_data"
    }
   ],
   "source": [
    "plt.figure(1, figsize=[17, 4])\n",
    "xx = [i for i in range(1, 9)]\n",
    "plt.xticks([i for i in range(1, 9)])\n",
    "plt.title(\"MNB ngram=1\")\n",
    "plt.plot(xx, m_acc_val, 'o-', color='red', lw=2)\n",
    "plt.plot(xx, m_acc_train, 'o-', color='blue', lw=2)\n",
    "plt.legend([\"VALIDATION ACCURACY\", \"TRAIN ACCURACY\"], loc=1)\n",
    "plt.ylabel('Accuracy')\n",
    "plt.xlabel('Number of the regularization parameter')\n",
    "plt.grid(True)\n",
    "plt.show()"
   ]
  },
  {
   "cell_type": "code",
   "execution_count": 136,
   "metadata": {
    "collapsed": false
   },
   "outputs": [
    {
     "data": {
      "image/png": "[encoded data removed]",
      "text/plain": [
       "<matplotlib.figure.Figure at 0x1c77cfa90>"
      ]
     },
     "metadata": {},
     "output_type": "display_data"
    }
   ],
   "source": [
    "plt.figure(1, figsize=[17, 4])\n",
    "xx = [i for i in range(1, 9)]\n",
    "plt.xticks([i for i in range(1, 9)])\n",
    "plt.title(\"Logistic regression ngram=1\")\n",
    "plt.plot(xx, l_acc_val, 'o-', color='red', lw=2)\n",
    "plt.plot(xx, l_acc_train, 'o-', color='blue', lw=2)\n",
    "plt.legend([\"VALIDATION ACCURACY\", \"TRAIN ACCURACY\"], loc=1)\n",
    "plt.ylabel('Accuracy')\n",
    "plt.xlabel('Number of the regularization parameter')\n",
    "plt.grid(True)\n",
    "plt.show()"
   ]
  },
  {
   "cell_type": "code",
   "execution_count": 137,
   "metadata": {
    "collapsed": false
   },
   "outputs": [
    {
     "name": "stdout",
     "output_type": "stream",
     "text": [
      "Лучший параметр регуляризации alpha для mnb = 0.013894954943731374\n",
      "Лучший параметр регуляризации c для logistic regression = 71968.56730011514\n",
      "Количество соседей для knn = 121\n"
     ]
    }
   ],
   "source": [
    "print('Лучший параметр регуляризации alpha для mnb = {}'.format(alphas[np.argmax(m_acc_val)]))\n",
    "print('Лучший параметр регуляризации c для logistic regression = {}'.format(cs[np.argmax(l_acc_val)]))\n",
    "print('Количество соседей для knn = {}'.format(ns[np.argmax(k_acc_val)]))"
   ]
  },
  {
   "cell_type": "code",
   "execution_count": 138,
   "metadata": {
    "collapsed": false
   },
   "outputs": [],
   "source": [
    "#alphas[3]\n",
    "#cs[4]\n",
    "#ns[6]\n",
    "#4)"
   ]
  },
  {
   "cell_type": "code",
   "execution_count": 139,
   "metadata": {
    "collapsed": false
   },
   "outputs": [],
   "source": [
    "vectorizer = TfidfVectorizer(lowercase=True, stop_words=None, \n",
    "                             use_idf=True, ngram_range=(1,1),\n",
    "                             smooth_idf=False)   \n",
    "tfidf_train_vectors = vectorizer.fit_transform(x_train_init)\n",
    "tfidf_test_vectors = vectorizer.transform(x_test)"
   ]
  },
  {
   "cell_type": "code",
   "execution_count": 149,
   "metadata": {
    "collapsed": false
   },
   "outputs": [
    {
     "name": "stdout",
     "output_type": "stream",
     "text": [
      "100 loops, best of 3: 10.3 ms per loop\n"
     ]
    }
   ],
   "source": [
    "#10.1 ms\n",
    "ngram1mnb = MultinomialNB(alpha=alphas[3]).fit(tfidf_train_vectors, y_train_init)\n",
    "y_test_pred = ngram1mnb.predict(tfidf_test_vectors)"
   ]
  },
  {
   "cell_type": "code",
   "execution_count": 150,
   "metadata": {
    "collapsed": false
   },
   "outputs": [
    {
     "name": "stdout",
     "output_type": "stream",
     "text": [
      "Accuracy для лучше mnb модели 0.96687211094\n"
     ]
    }
   ],
   "source": [
    "ngram1mnb_score = accuracy_score(y_test_pred, y_test)\n",
    "print('Accuracy для лучше mnb модели', ngram1mnb_score)"
   ]
  },
  {
   "cell_type": "code",
   "execution_count": 159,
   "metadata": {
    "collapsed": false
   },
   "outputs": [
    {
     "name": "stdout",
     "output_type": "stream",
     "text": [
      "1 loop, best of 3: 399 ms per loop\n"
     ]
    }
   ],
   "source": [
    "#399 ms\n",
    "ngram1knn = KNeighborsClassifier(n_neighbors=ns[6]).fit(tfidf_train_vectors, y_train_init)\n",
    "y_test_pred = ngram1knn.predict(tfidf_test_vectors)"
   ]
  },
  {
   "cell_type": "code",
   "execution_count": 160,
   "metadata": {
    "collapsed": false
   },
   "outputs": [
    {
     "name": "stdout",
     "output_type": "stream",
     "text": [
      "Accuracy для лучшей knn модели 0.854391371341\n"
     ]
    }
   ],
   "source": [
    "ngram1knn_score = accuracy_score(y_test_pred, y_test)\n",
    "print('Accuracy для лучшей knn модели', ngram1knn_score)"
   ]
  },
  {
   "cell_type": "code",
   "execution_count": 162,
   "metadata": {
    "collapsed": false
   },
   "outputs": [
    {
     "name": "stdout",
     "output_type": "stream",
     "text": [
      "1 loop, best of 3: 737 ms per loop\n"
     ]
    }
   ],
   "source": [
    "#737 ms\n",
    "ngram1log = LogisticRegression(penalty=\"l2\", fit_intercept=True, max_iter=100, C=cs[4], solver=\"lbfgs\", random_state=12345).fit(tfidf_train_vectors, y_train_init)\n",
    "y_test_pred = ngram1log.predict(tfidf_test_vectors)"
   ]
  },
  {
   "cell_type": "code",
   "execution_count": 163,
   "metadata": {
    "collapsed": false
   },
   "outputs": [
    {
     "name": "stdout",
     "output_type": "stream",
     "text": [
      "Accuracy для лучшей логистической регрессии 0.981510015408\n"
     ]
    }
   ],
   "source": [
    "ngram1log_score = accuracy_score(y_test_pred, y_test)\n",
    "print('Accuracy для лучшей логистической регрессии', ngram1log_score)"
   ]
  },
  {
   "cell_type": "code",
   "execution_count": 89,
   "metadata": {
    "collapsed": true
   },
   "outputs": [],
   "source": [
    "#решим для ngram = 2"
   ]
  },
  {
   "cell_type": "code",
   "execution_count": 90,
   "metadata": {
    "collapsed": false
   },
   "outputs": [],
   "source": [
    "df = pd.read_table(\"data/emails.tsv\", header=None)\n",
    "y = df[0].values.astype(\"U\")\n",
    "x = df[1].values.astype(\"U\")\n",
    "x_train_init, x_test, y_train_init, y_test = cross_validation.train_test_split(x, y, test_size=0.3, random_state=123)\n",
    "kf4 = cross_validation.KFold(n=len(x_train_init), n_folds=4, shuffle=True, random_state=123)"
   ]
  },
  {
   "cell_type": "code",
   "execution_count": 91,
   "metadata": {
    "collapsed": true
   },
   "outputs": [],
   "source": [
    "x_trainl2, x_vall2, y_trainl2, y_vall2 = [], [], [], []\n",
    "\n",
    "for t_index, tt_index in kf4:\n",
    "    xtrainl2, xvall2 = x_train_init[t_index], x_train_init[tt_index]\n",
    "    x_trainl2.append(xtrainl2)\n",
    "    x_vall2.append(xvall2)\n",
    "    \n",
    "    ytrainl2, yvall2 = y_train_init[t_index], y_train_init[tt_index]\n",
    "    y_trainl2.append(ytrainl2)\n",
    "    y_vall2.append(yvall2)"
   ]
  },
  {
   "cell_type": "code",
   "execution_count": 92,
   "metadata": {
    "collapsed": false
   },
   "outputs": [],
   "source": [
    "ns = np.arange(1, 150, 20) # количество соседей\n",
    "k_acc_val2, k_acc_train2 = [], []\n",
    "for i in range(len(ns)):\n",
    "    tk_acc_val2, tk_acc_train2 = [], []\n",
    "    for j in range(4):\n",
    "        vectoriz2 = TfidfVectorizer(lowercase=True, stop_words='english', \n",
    "                             use_idf=True, ngram_range=(1, 2),\n",
    "                             smooth_idf=False)  \n",
    "        x_traini2 = x_trainl2[j]\n",
    "        x_vali2 = x_vall2[j]\n",
    "        y_vali2 = y_vall2[j]\n",
    "        y_traini2 = y_trainl2[j]\n",
    "\n",
    "        trainvectors2 = vectoriz2.fit_transform(x_traini2)\n",
    "        valvectors2 = vectoriz2.transform(x_vali2)\n",
    "        knn_classif2 = KNeighborsClassifier(n_neighbors=ns[i]).fit(trainvectors2, y_traini2)\n",
    "        \n",
    "        k_predictionv2 = knn_classif2.predict(valvectors2)\n",
    "        k_predictiont2 = knn_classif2.predict(trainvectors2)\n",
    "        \n",
    "        tk_acc_val2.append(accuracy_score(k_predictionv2, y_vali2))\n",
    "        tk_acc_train2.append(accuracy_score(k_predictiont2, y_traini2))\n",
    "        \n",
    "    k_acc_val2.append(np.array(tk_acc_val2).mean())\n",
    "    k_acc_train2.append(np.array(tk_acc_train2).mean())"
   ]
  },
  {
   "cell_type": "code",
   "execution_count": 93,
   "metadata": {
    "collapsed": false
   },
   "outputs": [],
   "source": [
    "cs = np.logspace(-2, 10, 8, base=10)\n",
    "l_acc_val2, l_acc_train2 = [], []\n",
    "for i in range(len(cs)):\n",
    "    tl_acc_val2, tl_acc_train2 = [], []\n",
    "    for j in range(4):\n",
    "        vectoriz2 = TfidfVectorizer(lowercase=True, stop_words='english', \n",
    "                             use_idf=True, ngram_range=(1, 2),\n",
    "                             smooth_idf=False)  \n",
    "        x_traini2 = x_trainl2[j]\n",
    "        x_vali2 = x_vall2[j]\n",
    "        y_vali2 = y_vall2[j]\n",
    "        y_traini2 = y_trainl2[j]\n",
    "\n",
    "        trainvectors2 = vectoriz2.fit_transform(x_traini2)\n",
    "        valvectors2 = vectoriz2.transform(x_vali2)\n",
    "        logRega2 = LogisticRegression(penalty=\"l2\", fit_intercept=True, max_iter=100, C=cs[i], solver=\"lbfgs\", random_state=12345).fit(trainvectors2, y_traini2)\n",
    "        \n",
    "        l_predictionv2 = logRega2.predict(valvectors2)\n",
    "        l_predictiont2 = logRega2.predict(trainvectors2)\n",
    "        \n",
    "        tl_acc_val2.append(accuracy_score(l_predictionv2, y_vali2))\n",
    "        tl_acc_train2.append(accuracy_score(l_predictiont2, y_traini2))\n",
    "        \n",
    "    l_acc_val2.append(np.array(tl_acc_val2).mean())\n",
    "    l_acc_train2.append(np.array(tl_acc_train2).mean())"
   ]
  },
  {
   "cell_type": "code",
   "execution_count": 94,
   "metadata": {
    "collapsed": false
   },
   "outputs": [],
   "source": [
    "alphas = np.logspace(-4, 1, 8, base=10) # сглаживающий параметр\n",
    "m_acc_val2, m_acc_train2 = [], []\n",
    "for i in range(len(alphas)):\n",
    "    t_acc_val2, t_acc_train2 = [], []\n",
    "    for j in range(4):\n",
    "        vectoriz2 = TfidfVectorizer(lowercase=True, stop_words='english', \n",
    "                             use_idf=True, ngram_range=(1, 2),\n",
    "                             smooth_idf=False)  \n",
    "        x_traini2 = x_trainl2[j]\n",
    "        x_vali2 = x_vall2[j]\n",
    "        y_vali2 = y_vall2[j]\n",
    "        y_traini2 = y_trainl2[j]\n",
    "\n",
    "        trainvectors2 = vectoriz2.fit_transform(x_traini2)\n",
    "        valvectors2 = vectoriz2.transform(x_vali2)\n",
    "        m_multNBa2 = MultinomialNB(alpha=alphas[i]).fit(trainvectors2, y_traini2)\n",
    "        \n",
    "        m_predictionv2 = m_multNBa2.predict(valvectors2)\n",
    "        m_predictiont2 = m_multNBa2.predict(trainvectors2)\n",
    "        \n",
    "        t_acc_val2.append(accuracy_score(m_predictionv2, y_vali2))\n",
    "        t_acc_train2.append(accuracy_score(m_predictiont2, y_traini2))\n",
    "        \n",
    "    m_acc_val2.append(np.array(t_acc_val2).mean())\n",
    "    m_acc_train2.append(np.array(t_acc_train2).mean())"
   ]
  },
  {
   "cell_type": "code",
   "execution_count": 95,
   "metadata": {
    "collapsed": false
   },
   "outputs": [
    {
     "data": {
      "image/png": "[encoded data removed]",
      "text/plain": [
       "<matplotlib.figure.Figure at 0x4dd93c5c0>"
      ]
     },
     "metadata": {},
     "output_type": "display_data"
    }
   ],
   "source": [
    "plt.figure(1, figsize=[17, 4])\n",
    "xx = [i for i in range(1, 9)]\n",
    "plt.xticks([i for i in range(1, 9)])\n",
    "plt.title(\"kNN ngram=2\")\n",
    "plt.plot(xx, k_acc_val2, 'o-', color='red', lw=2)\n",
    "plt.plot(xx, k_acc_train2, 'o-', color='blue', lw=2)\n",
    "plt.legend([\"VALIDATION ACCURACY\", \"TRAIN ACCURACY\"], loc=1)\n",
    "plt.ylabel('Accuracy')\n",
    "plt.xlabel('Number of the Nearest Neighbors')\n",
    "plt.grid(True)\n",
    "plt.show()"
   ]
  },
  {
   "cell_type": "code",
   "execution_count": 96,
   "metadata": {
    "collapsed": false
   },
   "outputs": [
    {
     "data": {
      "image/png": "[encoded data removed]",
      "text/plain": [
       "<matplotlib.figure.Figure at 0x4da5bff98>"
      ]
     },
     "metadata": {},
     "output_type": "display_data"
    }
   ],
   "source": [
    "plt.figure(1, figsize=[17, 4])\n",
    "xx = [i for i in range(1, 9)]\n",
    "plt.xticks([i for i in range(1, 9)])\n",
    "plt.title(\"MNB ngram=2\")\n",
    "plt.plot(xx, m_acc_val2, 'o-', color='red', lw=2)\n",
    "plt.plot(xx, m_acc_train2, 'o-', color='blue', lw=2)\n",
    "plt.legend([\"VALIDATION ACCURACY\", \"TRAIN ACCURACY\"], loc=1)\n",
    "plt.ylabel('Accuracy')\n",
    "plt.xlabel('Number of the regularization parameter')\n",
    "plt.grid(True)\n",
    "plt.show()"
   ]
  },
  {
   "cell_type": "code",
   "execution_count": 97,
   "metadata": {
    "collapsed": false
   },
   "outputs": [
    {
     "data": {
      "image/png": "[encoded data removed]",
      "text/plain": [
       "<matplotlib.figure.Figure at 0x4dda82828>"
      ]
     },
     "metadata": {},
     "output_type": "display_data"
    }
   ],
   "source": [
    "plt.figure(1, figsize=[17, 4])\n",
    "xx = [i for i in range(1, 9)]\n",
    "plt.xticks([i for i in range(1, 9)])\n",
    "plt.title(\"Logistic regression ngram=2\")\n",
    "plt.plot(xx, l_acc_val2, 'o-', color='red', lw=2)\n",
    "plt.plot(xx, l_acc_train2, 'o-', color='blue', lw=2)\n",
    "plt.legend([\"VALIDATION ACCURACY\", \"TRAIN ACCURACY\"], loc=1)\n",
    "plt.ylabel('Accuracy')\n",
    "plt.xlabel('Number of the regularization parameter')\n",
    "plt.grid(True)\n",
    "plt.show()"
   ]
  },
  {
   "cell_type": "code",
   "execution_count": 98,
   "metadata": {
    "collapsed": false
   },
   "outputs": [
    {
     "name": "stdout",
     "output_type": "stream",
     "text": [
      "Лучший параметр регуляризации alpha для mnb = 0.002682695795279727\n",
      "Лучший параметр регуляризации c для logistic regression = 71968.56730011514\n",
      "Количество соседей для knn = 101\n"
     ]
    }
   ],
   "source": [
    "print('Лучший параметр регуляризации alpha для mnb = {}'.format(alphas[np.argmax(m_acc_val2)]))\n",
    "print('Лучший параметр регуляризации c для logistic regression = {}'.format(cs[np.argmax(l_acc_val2)]))\n",
    "print('Количество соседей для knn = {}'.format(ns[np.argmax(k_acc_val2)]))\n",
    "#alphas[2]\n",
    "#cs[4]\n",
    "#ns[5]"
   ]
  },
  {
   "cell_type": "code",
   "execution_count": 164,
   "metadata": {
    "collapsed": false
   },
   "outputs": [],
   "source": [
    "vectorizr = TfidfVectorizer(lowercase=True, stop_words=None, \n",
    "                             use_idf=True, ngram_range=(1,2),\n",
    "                             smooth_idf=False)   \n",
    "tfidf_train_vectors = vectorizr.fit_transform(x_train_init)\n",
    "tfidf_test_vectors = vectorizr.transform(x_test)"
   ]
  },
  {
   "cell_type": "code",
   "execution_count": 165,
   "metadata": {
    "collapsed": false
   },
   "outputs": [
    {
     "name": "stdout",
     "output_type": "stream",
     "text": [
      "10 loops, best of 3: 51.6 ms per loop\n"
     ]
    }
   ],
   "source": [
    "#51.6 ms\n",
    "ngram2mnb = MultinomialNB(alpha=alphas[2]).fit(tfidf_train_vectors, y_train_init)\n",
    "y_test_pred = ngram2mnb.predict(tfidf_test_vectors)"
   ]
  },
  {
   "cell_type": "code",
   "execution_count": 167,
   "metadata": {
    "collapsed": false
   },
   "outputs": [
    {
     "name": "stdout",
     "output_type": "stream",
     "text": [
      "Accuracy для лучше mnb модели (ngram=2) 0.981510015408\n"
     ]
    }
   ],
   "source": [
    "ngram2mnb_score = accuracy_score(y_test_pred, y_test)\n",
    "print('Accuracy для лучше mnb модели (ngram=2)', ngram2mnb_score)"
   ]
  },
  {
   "cell_type": "code",
   "execution_count": 169,
   "metadata": {
    "collapsed": false
   },
   "outputs": [],
   "source": [
    "#544 ms\n",
    "ngram2knn = KNeighborsClassifier(n_neighbors=ns[5]).fit(tfidf_train_vectors, y_train_init)\n",
    "y_test_pred = ngram2knn.predict(tfidf_test_vectors)"
   ]
  },
  {
   "cell_type": "code",
   "execution_count": 170,
   "metadata": {
    "collapsed": false
   },
   "outputs": [
    {
     "name": "stdout",
     "output_type": "stream",
     "text": [
      "Accuracy для лучшей knn модели (ngram=2) 0.859784283513\n"
     ]
    }
   ],
   "source": [
    "ngram2knn_score = accuracy_score(y_test_pred, y_test)\n",
    "print('Accuracy для лучшей knn модели (ngram=2)', ngram2knn_score)"
   ]
  },
  {
   "cell_type": "code",
   "execution_count": 172,
   "metadata": {
    "collapsed": false
   },
   "outputs": [],
   "source": [
    "#6.33 s\n",
    "ngram2log = LogisticRegression(penalty=\"l2\", fit_intercept=True, max_iter=100, C=cs[4], solver=\"lbfgs\", random_state=12345).fit(tfidf_train_vectors, y_train_init)\n",
    "y_test_pred = ngram2log.predict(tfidf_test_vectors)"
   ]
  },
  {
   "cell_type": "code",
   "execution_count": 173,
   "metadata": {
    "collapsed": false
   },
   "outputs": [
    {
     "name": "stdout",
     "output_type": "stream",
     "text": [
      "Accuracy для лучшей логистической регрессии (ngram=2) 0.981510015408\n"
     ]
    }
   ],
   "source": [
    "ngram2log_score = accuracy_score(y_test_pred, y_test)\n",
    "print('Accuracy для лучшей логистической регрессии (ngram=2)', ngram2log_score)"
   ]
  },
  {
   "cell_type": "code",
   "execution_count": 175,
   "metadata": {
    "collapsed": false
   },
   "outputs": [
    {
     "data": {
      "text/html": [
       "<div>\n",
       "<table border=\"1\" class=\"dataframe\">\n",
       "  <thead>\n",
       "    <tr style=\"text-align: right;\">\n",
       "      <th></th>\n",
       "      <th>Accuracy</th>\n",
       "      <th>Parameter</th>\n",
       "      <th>Time</th>\n",
       "    </tr>\n",
       "  </thead>\n",
       "  <tbody>\n",
       "    <tr>\n",
       "      <th>KNN ngram = 2</th>\n",
       "      <td>0.859784</td>\n",
       "      <td>101</td>\n",
       "      <td>51.6 ms</td>\n",
       "    </tr>\n",
       "    <tr>\n",
       "      <th>KNN ngram = 1</th>\n",
       "      <td>0.854391</td>\n",
       "      <td>121</td>\n",
       "      <td>399 ms</td>\n",
       "    </tr>\n",
       "    <tr>\n",
       "      <th>MNB ngram = 2</th>\n",
       "      <td>0.98151</td>\n",
       "      <td>0.0026827</td>\n",
       "      <td>546 ms</td>\n",
       "    </tr>\n",
       "    <tr>\n",
       "      <th>MNB ngram = 1</th>\n",
       "      <td>0.966872</td>\n",
       "      <td>0.013895</td>\n",
       "      <td>10.1 ms</td>\n",
       "    </tr>\n",
       "    <tr>\n",
       "      <th>LogReg ngram = 2</th>\n",
       "      <td>0.98151</td>\n",
       "      <td>71968.6</td>\n",
       "      <td>6.33 s</td>\n",
       "    </tr>\n",
       "    <tr>\n",
       "      <th>LogReg ngram = 1</th>\n",
       "      <td>0.98151</td>\n",
       "      <td>71968.6</td>\n",
       "      <td>737 ms</td>\n",
       "    </tr>\n",
       "  </tbody>\n",
       "</table>\n",
       "</div>"
      ],
      "text/plain": [
       "                  Accuracy  Parameter     Time\n",
       "KNN ngram = 2     0.859784        101  51.6 ms\n",
       "KNN ngram = 1     0.854391        121   399 ms\n",
       "MNB ngram = 2      0.98151  0.0026827   546 ms\n",
       "MNB ngram = 1     0.966872   0.013895  10.1 ms\n",
       "LogReg ngram = 2   0.98151    71968.6   6.33 s\n",
       "LogReg ngram = 1   0.98151    71968.6   737 ms"
      ]
     },
     "execution_count": 175,
     "metadata": {},
     "output_type": "execute_result"
    }
   ],
   "source": [
    "columns = [\"Accuracy\", \"Parameter\", \"Time\"]\n",
    "index = [\"KNN ngram = 2\", \"KNN ngram = 1\", \"MNB ngram = 2\", \"MNB ngram = 1\", \"LogReg ngram = 2\", \"LogReg ngram = 1\"]\n",
    "dfi = pd.DataFrame(index=index, columns=columns)\n",
    "dfi.iloc[0, 0] = (ngram2knn_score)\n",
    "dfi.iloc[0, 1] = (ns[np.argmax(k_acc_val2)])\n",
    "dfi.iloc[0, 2] = '51.6 ms'\n",
    "\n",
    "dfi.iloc[1, 0] = (ngram1knn_score)\n",
    "dfi.iloc[1, 1] = (ns[np.argmax(k_acc_val)])\n",
    "dfi.iloc[1, 2] = '399 ms'\n",
    "\n",
    "dfi.iloc[2, 0] = (ngram2mnb_score)\n",
    "dfi.iloc[2, 1] = (alphas[np.argmax(m_acc_val2)])\n",
    "dfi.iloc[2, 2] = '546 ms'\n",
    "\n",
    "dfi.iloc[3, 0] = (ngram1mnb_score)\n",
    "dfi.iloc[3, 1] = (alphas[np.argmax(m_acc_val)])\n",
    "dfi.iloc[3, 2] = '10.1 ms'\n",
    "\n",
    "dfi.iloc[4, 0] = (ngram2log_score)\n",
    "dfi.iloc[4, 1] = (cs[np.argmax(l_acc_val2)])\n",
    "dfi.iloc[4, 2] = '6.33 s'\n",
    "\n",
    "dfi.iloc[5, 0] = (ngram1log_score)\n",
    "dfi.iloc[5, 1] = (cs[np.argmax(l_acc_val)])\n",
    "dfi.iloc[5, 2] = '737 ms'\n",
    "dfi"
   ]
  },
  {
   "cell_type": "code",
   "execution_count": null,
   "metadata": {
    "collapsed": true
   },
   "outputs": [],
   "source": [
    "# ВЫВОД. С увеличением нграм до 2, произошло улучшение качества классификации. \n",
    "# Так же в двух случаях из трех был подобран другой параметр модели, отличный от того, что был подобран \n",
    "# для случая нграм = 1.\n",
    "# По времени все случаи обучались и делали предсказания весьма быстро, меньше 1 секунды\n",
    "# Только логрегрессия с нграм = 2 имеет время = 6.33 секунд, что сильно выделяется на фоне остальных"
   ]
  },
  {
   "cell_type": "markdown",
   "metadata": {},
   "source": [
    "<p><b>Задача 3. (опционально)</b> Исследование влияния количества признаков FeatureHasher на качество классификации <b><i>(5 баллов к сумме по всем ДЗ)</i></b></p>"
   ]
  },
  {
   "cell_type": "markdown",
   "metadata": {},
   "source": [
    "<p>Как будет меняться качество классификации для обозначенных ранее методов при использовании FeatureHasher (или HashingVectorizer) из пакета sklearn перед TF-IDF преобразованием, если</p>"
   ]
  },
  {
   "cell_type": "code",
   "execution_count": null,
   "metadata": {
    "collapsed": true
   },
   "outputs": [],
   "source": [
    "n_features = np.logspace(1, 5, 5, base=10) # количество признаков\n",
    "non_negative=True"
   ]
  },
  {
   "cell_type": "markdown",
   "metadata": {},
   "source": [
    "<p>Можно воспользоваться GridSearchCV</p>"
   ]
  },
  {
   "cell_type": "code",
   "execution_count": null,
   "metadata": {
    "collapsed": true
   },
   "outputs": [],
   "source": []
  }
 ],
 "metadata": {
  "kernelspec": {
   "display_name": "Python 3",
   "language": "python",
   "name": "python3"
  },
  "language_info": {
   "codemirror_mode": {
    "name": "ipython",
    "version": 3
   },
   "file_extension": ".py",
   "mimetype": "text/x-python",
   "name": "python",
   "nbconvert_exporter": "python",
   "pygments_lexer": "ipython3",
   "version": "3.5.2"
  }
 },
 "nbformat": 4,
 "nbformat_minor": 2
}
